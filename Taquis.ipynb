{
  "nbformat": 4,
  "nbformat_minor": 0,
  "metadata": {
    "colab": {
      "provenance": [],
      "mount_file_id": "1gsxSn6h-HmESjfTe8rASyLdeI-d-su2Q",
      "authorship_tag": "ABX9TyMmW+INASEqJmgk7JXc8bIS",
      "include_colab_link": true
    },
    "kernelspec": {
      "name": "python3",
      "display_name": "Python 3"
    },
    "language_info": {
      "name": "python"
    }
  },
  "cells": [
    {
      "cell_type": "markdown",
      "metadata": {
        "id": "view-in-github",
        "colab_type": "text"
      },
      "source": [
        "<a href=\"https://colab.research.google.com/github/danielgzv/TaquigrafiasSCJN.Out_of_context/blob/Primera-versi%C3%B3n-del-c%C3%B3digo%2C-'Taquis'/Taquis.ipynb\" target=\"_parent\"><img src=\"https://colab.research.google.com/assets/colab-badge.svg\" alt=\"Open In Colab\"/></a>"
      ]
    },
    {
      "cell_type": "markdown",
      "source": [],
      "metadata": {
        "id": "kVsY4D6wyx-v"
      }
    },
    {
      "cell_type": "code",
      "execution_count": null,
      "metadata": {
        "colab": {
          "base_uri": "https://localhost:8080/"
        },
        "id": "jKegcyHdahoO",
        "outputId": "59d6ce36-e4e1-4aa0-c89e-d3776caee575"
      },
      "outputs": [
        {
          "output_type": "stream",
          "name": "stdout",
          "text": [
            "Descargado 28 de Febrero de 2023_Pleno.pdf\n",
            "Descargado 27 de Febrero de 2023_Pleno.pdf\n",
            "Descargado 23 de Febrero de 2023_Pleno.pdf\n",
            "Descargado 22 de Febrero de 2023_Segunda Sala.pdf\n",
            "Descargado 22 de Febrero de 2023_Primera Sala.pdf\n",
            "Descargado 21 de Febrero de 2023_Pleno.pdf\n",
            "Descargado 20 de Febrero de 2023_Pleno.pdf\n",
            "Descargado 16 de Febrero de 2023_Pleno.pdf\n",
            "Descargado 15 de Febrero de 2023_Segunda Sala.pdf\n",
            "Descargado 15 de Febrero de 2023_Primera Sala.pdf\n",
            "Descargado 14 de Febrero de 2023_Pleno.pdf\n",
            "Descargado 13 de Febrero de 2023_Pleno.pdf\n",
            "Descargado 09 de Febrero de 2023_Pleno.pdf\n",
            "Descargado 08 de Febrero de 2023_Primera Sala.pdf\n",
            "Descargado 08 de Febrero de 2023_Segunda Sala.pdf\n",
            "Descargado 07 de Febrero de 2023_Pleno.pdf\n",
            "Descargado 02 de Febrero de 2023_Pleno.pdf\n",
            "Descargado 01 de Febrero de 2023_Segunda Sala.pdf\n",
            "Descargado 01 de Febrero de 2023_Primera Sala.pdf\n",
            "Descargado 31 de Enero de 2023_Pleno.pdf\n",
            "Descargado 30 de Enero de 2023_Pleno.pdf\n",
            "Descargado 26 de Enero de 2023_Pleno.pdf\n",
            "Descargado 25 de Enero de 2023_Segunda Sala.pdf\n",
            "Descargado 25 de Enero de 2023_Primera Sala.pdf\n",
            "Descargado 24 de Enero de 2023_Pleno.pdf\n",
            "Descargado 23 de Enero de 2023_Pleno.pdf\n",
            "Descargado 19 de Enero de 2023_Pleno.pdf\n",
            "Descargado 18 de Enero de 2023_Primera Sala.pdf\n",
            "Descargado 18 de Enero de 2023_Segunda Sala.pdf\n",
            "Descargado 17 de Enero de 2023_Pleno.pdf\n",
            "['28 de Febrero de 2023', '27 de Febrero de 2023', '23 de Febrero de 2023', '22 de Febrero de 2023', '22 de Febrero de 2023', '21 de Febrero de 2023', '20 de Febrero de 2023', '16 de Febrero de 2023', '15 de Febrero de 2023', '15 de Febrero de 2023', '14 de Febrero de 2023', '13 de Febrero de 2023', '09 de Febrero de 2023', '08 de Febrero de 2023', '08 de Febrero de 2023', '07 de Febrero de 2023', '02 de Febrero de 2023', '01 de Febrero de 2023', '01 de Febrero de 2023', '31 de Enero de 2023', '30 de Enero de 2023', '26 de Enero de 2023', '25 de Enero de 2023', '25 de Enero de 2023', '24 de Enero de 2023', '23 de Enero de 2023', '19 de Enero de 2023', '18 de Enero de 2023', '18 de Enero de 2023', '17 de Enero de 2023']\n",
            "['Pleno', 'Pleno', 'Pleno', 'Segunda Sala', 'Primera Sala', 'Pleno', 'Pleno', 'Pleno', 'Segunda Sala', 'Primera Sala', 'Pleno', 'Pleno', 'Pleno', 'Primera Sala', 'Segunda Sala', 'Pleno', 'Pleno', 'Segunda Sala', 'Primera Sala', 'Pleno', 'Pleno', 'Pleno', 'Segunda Sala', 'Primera Sala', 'Pleno', 'Pleno', 'Pleno', 'Primera Sala', 'Segunda Sala', 'Pleno']\n"
          ]
        }
      ],
      "source": [
        "import os\n",
        "import requests\n",
        "from bs4 import BeautifulSoup\n",
        "\n",
        "# Directorio donde se guardarán los archivos descargados\n",
        "DOWNLOAD_DIR = '/content/drive/MyDrive/Taquigráficas'\n",
        "\n",
        "# URL base del sitio web\n",
        "BASE_URL = 'https://www.scjn.gob.mx'\n",
        "\n",
        "# Rango de páginas a descargar (0 a 358)\n",
        "PAGE_RANGE = range(0, 3)\n",
        "\n",
        "# Listas para almacenar los valores de las dos columnas\n",
        "fechas = []\n",
        "instancias = []\n",
        "\n",
        "# Iterar por cada página\n",
        "for page_num in PAGE_RANGE:\n",
        "    # URL de la página actual\n",
        "    url = f'{BASE_URL}/multimedia/versiones-taquigraficas?fecha=All&field_vsts_instancia_target_id_1=All&page={page_num}'\n",
        "\n",
        "    # Obtener el contenido HTML de la página\n",
        "    response = requests.get(url)\n",
        "    soup = BeautifulSoup(response.content, 'html.parser')\n",
        "\n",
        "    # Encontrar todas las filas de la tabla en la página\n",
        "    rows = soup.find_all('tr')\n",
        "\n",
        "    # Iterar por cada fila y extraer los valores de las columnas requeridas\n",
        "    for row in rows:\n",
        "        fecha_cell = row.find('td', {'headers': 'view-field-vsts-fecha-table-column'})\n",
        "        instancia_cell = row.find('td', {'headers': 'view-field-vsts-instancia-table-column'})\n",
        "        \n",
        "        # Si se encontraron las dos columnas, agregar sus valores a las listas\n",
        "        if fecha_cell and instancia_cell:\n",
        "            fechas.append(fecha_cell.text.strip())\n",
        "            instancias.append(instancia_cell.text.strip())\n",
        "\n",
        "            # Descargar el archivo PDF en el directorio\n",
        "            pdf_link = row.find('a', href=lambda href: href and href.endswith('.pdf'))\n",
        "            pdf_url = f\"{BASE_URL}{pdf_link['href']}\"\n",
        "            pdf_filename = f\"{fecha_cell.text.strip()}_{instancia_cell.text.strip()}.pdf\"\n",
        "\n",
        "            # Crear el directorio si no existe\n",
        "            if not os.path.exists(DOWNLOAD_DIR):\n",
        "                os.makedirs(DOWNLOAD_DIR)\n",
        "\n",
        "            # Descargar el archivo en el directorio\n",
        "            with open(os.path.join(DOWNLOAD_DIR, pdf_filename), 'wb') as f:\n",
        "                response = requests.get(pdf_url)\n",
        "                f.write(response.content)\n",
        "\n",
        "            print(f'Descargado {pdf_filename}')\n",
        "\n",
        "print(fechas)\n",
        "\n",
        "print(instancias)\n"
      ]
    },
    {
      "cell_type": "code",
      "source": [
        "!pip install aspose.words\n"
      ],
      "metadata": {
        "colab": {
          "base_uri": "https://localhost:8080/"
        },
        "id": "0tDdzkDW4S50",
        "outputId": "2133b6bf-8a50-4b46-e957-fc43fe87e922"
      },
      "execution_count": null,
      "outputs": [
        {
          "output_type": "stream",
          "name": "stdout",
          "text": [
            "Looking in indexes: https://pypi.org/simple, https://us-python.pkg.dev/colab-wheels/public/simple/\n",
            "Collecting aspose.words\n",
            "  Downloading aspose_words-23.2.0-py3-none-manylinux1_x86_64.whl (82.7 MB)\n",
            "\u001b[2K     \u001b[90m━━━━━━━━━━━━━━━━━━━━━━━━━━━━━━━━━━━━━━━━\u001b[0m \u001b[32m82.7/82.7 MB\u001b[0m \u001b[31m8.6 MB/s\u001b[0m eta \u001b[36m0:00:00\u001b[0m\n",
            "\u001b[?25hInstalling collected packages: aspose.words\n",
            "Successfully installed aspose.words-23.2.0\n"
          ]
        }
      ]
    },
    {
      "cell_type": "code",
      "source": [
        "import os\n",
        "import aspose.words as aw\n",
        "\n",
        "# Directorio de entrada y salida\n",
        "input_folder = '/content/drive/MyDrive/Taquigráficas'\n",
        "output_folder = '/content/drive/MyDrive/Taquigrafías/Fragmentos_taqui'\n",
        "\n",
        "# Iterar sobre los archivos en el directorio de entrada\n",
        "for filename in os.listdir(input_folder):\n",
        "    # Verificar si el archivo es un PDF\n",
        "    if filename.endswith('.pdf'):\n",
        "        # Crear la ruta completa de entrada y salida\n",
        "        input_file = os.path.join(input_folder, filename)\n",
        "        output_file = os.path.join(output_folder, os.path.splitext(filename)[0] + '.txt')\n",
        "        \n",
        "        # Abrir el archivo PDF y guardarlo como texto sin formato\n",
        "        doc = aw.Document(input_file)\n",
        "        doc.save(output_file, aw.SaveFormat.TEXT)\n",
        "\n"
      ],
      "metadata": {
        "id": "3i1BSfPphM8J"
      },
      "execution_count": null,
      "outputs": []
    },
    {
      "cell_type": "code",
      "source": [
        "import os\n",
        "import re\n",
        "\n",
        "# lista de palabras que se buscarán\n",
        "palabras_buscadas = ['alcohol','ay', 'baño', 'broma', 'burla', 'café', 'cafecito', \n",
        "                     'canción','carcajada','cerveza', 'chascarrillo','chela',\n",
        "                     'chisme','chicharrón','demonio','desayuno', 'diablo', \n",
        "                     'dios','disculpa', 'divino','dormir','enfado', 'enojo',\n",
        "                     'golosina','grosería', 'güey','leche','libro','mal',\n",
        "                     'malinterprete','misa','molestia','ofenda','ofender', 'ofensa',\n",
        "                     'ofendid','pasillo','película','risa', 'santo','soez', 'suciedad',\n",
        "                     'sueño','tamal','té','tonto','tontería', 'vulgar', 'wey']\n",
        "\n",
        "# inicializar el diccionario de conteo\n",
        "conteo_palabras = {palabra: 0 for palabra in palabras_buscadas}\n",
        "\n",
        "# ruta a la carpeta con los archivos txt\n",
        "ruta_carpeta = '/content/drive/MyDrive/Taquigrafías/Fragmentos_taqui'\n",
        "\n",
        "# iterar a través de los archivos en la carpeta\n",
        "for archivo_txt in os.listdir(ruta_carpeta):\n",
        "    # leer el archivo txt\n",
        "    with open(os.path.join(ruta_carpeta, archivo_txt), 'r') as f:\n",
        "        contenido = f.read()\n",
        "\n",
        "    # dividir el contenido en párrafos\n",
        "    parrafos = contenido.split('\\n\\n')\n",
        "\n",
        "    # iterar a través de los párrafos\n",
        "    for parrafo in parrafos:\n",
        "        # buscar cada palabra en el párrafo y actualizar el conteo\n",
        "        for palabra in palabras_buscadas:\n",
        "            if re.search(rf'\\b{palabra}\\b', parrafo):\n",
        "                conteo_palabras[palabra] += 1\n",
        "\n",
        "# imprimir el conteo de cada palabra\n",
        "for palabra, conteo in conteo_palabras.items():\n",
        "    print(f'{palabra}: {conteo}')\n"
      ],
      "metadata": {
        "id": "-1UWQFBtrhbM",
        "colab": {
          "base_uri": "https://localhost:8080/",
          "height": 253
        },
        "outputId": "8767a276-ad8c-4a29-f800-a0ffd9b60c6c"
      },
      "execution_count": null,
      "outputs": [
        {
          "output_type": "error",
          "ename": "IsADirectoryError",
          "evalue": "ignored",
          "traceback": [
            "\u001b[0;31m---------------------------------------------------------------------------\u001b[0m",
            "\u001b[0;31mIsADirectoryError\u001b[0m                         Traceback (most recent call last)",
            "\u001b[0;32m<ipython-input-8-93a00dc5acb0>\u001b[0m in \u001b[0;36m<module>\u001b[0;34m\u001b[0m\n\u001b[1;32m     21\u001b[0m \u001b[0;32mfor\u001b[0m \u001b[0marchivo_txt\u001b[0m \u001b[0;32min\u001b[0m \u001b[0mos\u001b[0m\u001b[0;34m.\u001b[0m\u001b[0mlistdir\u001b[0m\u001b[0;34m(\u001b[0m\u001b[0mruta_carpeta\u001b[0m\u001b[0;34m)\u001b[0m\u001b[0;34m:\u001b[0m\u001b[0;34m\u001b[0m\u001b[0;34m\u001b[0m\u001b[0m\n\u001b[1;32m     22\u001b[0m     \u001b[0;31m# leer el archivo txt\u001b[0m\u001b[0;34m\u001b[0m\u001b[0;34m\u001b[0m\u001b[0;34m\u001b[0m\u001b[0m\n\u001b[0;32m---> 23\u001b[0;31m     \u001b[0;32mwith\u001b[0m \u001b[0mopen\u001b[0m\u001b[0;34m(\u001b[0m\u001b[0mos\u001b[0m\u001b[0;34m.\u001b[0m\u001b[0mpath\u001b[0m\u001b[0;34m.\u001b[0m\u001b[0mjoin\u001b[0m\u001b[0;34m(\u001b[0m\u001b[0mruta_carpeta\u001b[0m\u001b[0;34m,\u001b[0m \u001b[0marchivo_txt\u001b[0m\u001b[0;34m)\u001b[0m\u001b[0;34m,\u001b[0m \u001b[0;34m'r'\u001b[0m\u001b[0;34m)\u001b[0m \u001b[0;32mas\u001b[0m \u001b[0mf\u001b[0m\u001b[0;34m:\u001b[0m\u001b[0;34m\u001b[0m\u001b[0;34m\u001b[0m\u001b[0m\n\u001b[0m\u001b[1;32m     24\u001b[0m         \u001b[0mcontenido\u001b[0m \u001b[0;34m=\u001b[0m \u001b[0mf\u001b[0m\u001b[0;34m.\u001b[0m\u001b[0mread\u001b[0m\u001b[0;34m(\u001b[0m\u001b[0;34m)\u001b[0m\u001b[0;34m\u001b[0m\u001b[0;34m\u001b[0m\u001b[0m\n\u001b[1;32m     25\u001b[0m \u001b[0;34m\u001b[0m\u001b[0m\n",
            "\u001b[0;31mIsADirectoryError\u001b[0m: [Errno 21] Is a directory: '/content/drive/MyDrive/Taquigrafías/Fragmentos_taqui/Untitled Folder'"
          ]
        }
      ]
    },
    {
      "cell_type": "code",
      "source": [
        "import os\n",
        "import re\n",
        "import aspose.words as aw\n",
        "\n",
        "# Carpeta que contiene los archivos de texto\n",
        "carpeta = '/content/drive/MyDrive/Taquigrafías/Fragmentos_taqui'\n",
        "\n",
        "# Palabras clave a buscar\n",
        "palabras_clave =palabras_clave = ['alcohol', 'aspirina', 'ay', 'broma', 'burla', 'café', 'cafecito', 'canción', 'carcajada', 'cerveza', 'chascarrillo', 'chisme', 'demonio', 'desayunar', 'desayuno', 'diablo', 'dicharachero', 'dios', 'disculpa', 'dormir', 'enfado', 'enojo', 'fiesta', 'grosería', 'libro', 'mal', 'malinterprete', 'mezcal', 'misa', 'molestia', 'nervios', 'ofenda', 'ofender', 'ofensa', 'ofendid', 'pachanga', 'pasillo', 'película', 'risa', 'suciedad', 'siesta', 'siestecita', 'sopita', 'sueño', 'tamal', 'tonto', 'tontería', 'vacaciones', 'viejo']\n",
        "\n",
        "# Iterar sobre todos los archivos de texto en la carpeta\n",
        "for archivo in os.listdir(carpeta):\n",
        "    if archivo.endswith('.txt'):\n",
        "        # Abrir el archivo de texto con Aspose.Words\n",
        "        doc = aw.Document(os.path.join(carpeta, archivo))\n",
        "\n",
        "        # Iterar sobre los párrafos del documento\n",
        "        for parrafo in doc.get_child_nodes(aw.NodeType.PARAGRAPH, True):\n",
        "            texto_parrafo = parrafo.get_text().lower()\n",
        "\n",
        "            # Buscar las palabras clave en el texto del párrafo\n",
        "            for palabra in palabras_clave:\n",
        "                if re.search(r'\\b{}\\b'.format(palabra), texto_parrafo):\n",
        "                  \n",
        "                    # Imprimir el texto del párrafo si contiene una palabra clave\n",
        "                    print(texto_parrafo)\n",
        "                    break\n"
      ],
      "metadata": {
        "id": "WcZPtbaohM3J",
        "colab": {
          "base_uri": "https://localhost:8080/"
        },
        "outputId": "7766a2f1-1746-46d9-e217-5db7485b28bd"
      },
      "execution_count": null,
      "outputs": [
        {
          "output_type": "stream",
          "name": "stdout",
          "text": [
            "señora ministra presidenta: ¿alguien quiere hacer uso de la palabra?  yo, en este asunto, coincido con la desestimación que se hace respecto de ocho de las nueve causas de improcedencia hechas valer por la parte demandada y algunas de las entidades federativas; sin embargo, no comparto que se considere infundada la causa que se examina en el subapartado sexto, relativa a la cesación de efectos del oficio reclamado y sus actos antecedentes, porque estimo que ésta sí se actualiza con la existencia del ajuste definitivo que realizó la secretaría de hacienda y crédito público, respecto de las participaciones que correspondieron a cada entidad federativa para el impuesto especial sobre producción y servicios por cerveza, del ejercicio fiscal de 2018, cuya existencia es un hecho  notorio  al  estar  publicado  en  el  diario  oficial  de  la federación.\r\n",
            "por cerveza.\r\n",
            "señor  ministro  zaldívar  lelo  de  larrea:  perdón, señora ministra. estaba esperando si había alguien que hablara. yo, de acuerdo a precedentes, me posiciono, desde este momento, en contra del proyecto y por la invalidez del oficio y los actos que le dieron origen. en mi opinión, de conformidad con la causa de pedir se desprende que se cuestiona que no se analizó la viabilidad jurídica de la información utilizada para la integración del coeficiente para  determinar  el  ajuste  de  las  participaciones  federales  por concepto del ieps, y además, también se sostiene en la demanda que es ilegal la determinación de dichas participaciones, en tanto que  para  ello,  debe  tomarse  en  cuenta  lo  reportado  por  la enajenación  de  cerveza  de  los  causantes  objeto  del  ieps,  en función del comprobante fiscal y del domicilio del contribuyente. por lo que a decir del actor fue incorrecto ajustar el coeficiente de participación  en  perjuicio  de  la  ciudad  de  méxico  y,  en consecuencia, determinar las diferencias a las que se refiere el oficio controvertido.\r\n",
            "señor ministro laynez potisek: de acuerdo. se señala también que la secretaría de finanzas, por la actora, giró diversos oficios  a  distintas  autoridades  y,  salvo  uno  de  ellos,  que  se respondió, los demás no fueron atendidos, así como que la actora hizo saber su desacuerdo en la reunión nacional de funcionarios fiscales, ésta no atendió la petición y ratificó la decisión adoptada, así  como  desatendió su  obligación  de  resolver  sobre  todas  las proposiciones  que  formularon  sus  integrantes,  prevista  en  el reglamento interior. en la propuesta del proyecto, es que estos argumentos son inoperantes, por una parte, infundadas, en otra. inoperante que la actora afirme que presentó diversos oficios a las autoridades  del  sistema  nacional  que  no  fueron  atendidos.  en realidad,  no  propone  un  motivo  de  ilegalidad  respecto  de  lo sucedido  en  la  reunión  de  comité  de  vigilancia,  si  pretendía demostrar  la  violación  al  derecho  de  petición,  el  argumento  es inoperante, pues no responde a la materia de este tipo de juicios. no obstante, el proyecto analiza las peticiones contenidas en los oficios y concluye que, la solicitud de llevar a cabo un análisis completo que servirá de base para distribuir el ieps cerveza, se presentó también durante la reunión, por lo que la falta de respuesta no tendría ningún efecto.\r\n",
            "en el proyecto se estudia que durante la reunión se presentaron los coeficientes  para  la  inscripción  de  participaciones  del  ieps  de cerveza correspondientes al primer cuatrimestre 2018 y se propuso al comité de vigilancia aplicar otros al segundo ajuste cuatrimestral, en  términos  del  reglamento  del  comité  de  vigilancia,  dicha propuesta se discutió frente a las presentadas por la propia ciudad de méxico y después se acordó adoptar dos acuerdos: el primero, propuso  ratificar  la  determinación  de  no  considerar  las declaraciones realizadas por las agencias de la cervecera, por lo que se modificaría el coeficiente; el segundo, requirió información a cervecería modelo y a cervecería cuauhtémoc, sobre la venta final de cerveza por entidad federativa, para así calcular nuevamente los coeficientes de distribución del ieps.\r\n",
            "después, a continuación, expongo los argumentos contenidos en el punto número 4, que se plantearon en contra del oficio 4701, es el oficio impugnado el 23 de octubre de 2018. en este último apartado, el proyecto analiza los argumentos relacionados con este oficio, que consisten en que el oficio contraviene la ley de coordinación, no se fundó ni motivó, sólo contiene las diferencias resultantes de las operaciones aritméticas que realizó la secretaría de hacienda. la unidad de coordinación de entidades federativas de la secretaría omitió fundar su competencia, no existe certeza que la disminución de  las  participaciones  derive  de  los  acuerdos  tomados  en  las reuniones ya señaladas, lo actuado en las reuniones no puede constituir el fundamento del oficio, y la autoridad al contestar la demanda mejora la fundamentación y motivación del oficio pues los fundamentos que ofrece no constan en el mismo. de conformidad con la ley del ieps para calcular las participaciones sobre ingresos por ieps de cerveza, debe atenderse al objeto del impuesto, es decir, a la enajenación, tomando como base el comprobante fiscal expedido para tal efecto y el domicilio del contribuyente; de acuerdo con ello, fue incorrecto que ajustaran el coeficiente de participación. recordemos que el problema surge desde el momento en que la cervecería al haber cambiado de propietario ubicó su domicilio exclusivamente  en  la  ciudad  de  méxico  y  todas  las  ventas  de cerveza se realizaron a través de esta entidad, por lo que el cálculo de las participaciones conforme a los coeficientes fueron pasando de un promedio de 7.5% a 34% (treinta y cuatro por ciento) en un cuatrimestre, por lo que dio, precisamente, lugar al ajuste y a la obligación —perdón—, a la aplicación de un nuevo coeficiente y a la obligación de reembolso vía descuento.\r\n"
          ]
        }
      ]
    },
    {
      "cell_type": "code",
      "source": [
        "import os\n",
        "import re\n",
        "import aspose.words as aw\n",
        "\n",
        "# Carpeta que contiene los archivos de texto\n",
        "carpeta = '/content/drive/MyDrive/Taquigrafías/Fragmentos_taqui'\n",
        "\n",
        "# Palabras clave a buscar\n",
        "palabras_clave = ['alcohol', 'aspirina', 'ay', 'broma', 'burla', 'café', 'cafecito', 'canción', 'carcajada', 'cerveza', 'chascarrillo', 'chisme', 'demonio', 'desayunar', 'desayuno', 'diablo', 'dicharachero', 'dios', 'disculpa', 'dormir', 'enfado', 'enojo', 'fiesta', 'grosería', 'libro', 'mal', 'malinterprete', 'mezcal', 'misa', 'molestia', 'nervios', 'ofenda', 'ofender', 'ofensa', 'ofendid', 'pachanga', 'pasillo', 'película', 'risa', 'suciedad', 'siesta', 'siestecita', 'sopita', 'sueño', 'tamal', 'tonto', 'tontería', 'vacaciones', 'viejo']\n",
        "\n",
        "# Iterar sobre todos los archivos de texto en la carpeta\n",
        "for archivo in os.listdir(carpeta):\n",
        "    if archivo.endswith('.txt'):\n",
        "        # Abrir el archivo de texto con Aspose.Words\n",
        "        doc = aw.Document(os.path.join(carpeta, archivo))\n",
        "\n",
        "        # Iterar sobre los párrafos del documento\n",
        "        for parrafo in doc.get_child_nodes(aw.NodeType.PARAGRAPH, True):\n",
        "            texto_parrafo = parrafo.get_text().lower()\n",
        "\n",
        "            # Buscar las palabras clave en el texto del párrafo\n",
        "            for palabra in palabras_clave:\n",
        "                if re.search(r'\\b{}\\b'.format(palabra), texto_parrafo):\n",
        "\n",
        "                    # Guardar el texto del párrafo en un archivo separado\n",
        "                    nombre_archivo = f'{palabra}_{archivo}_{parrafo.get_text().strip()[:20]}.txt'\n",
        "                    ruta_archivo = os.path.join('/content/drive/MyDrive/Taquigrafías/Párrafos', nombre_archivo)\n",
        "                    with open(ruta_archivo, 'w') as f:\n",
        "                        f.write(texto_parrafo)\n",
        "\n",
        "                    # Imprimir el nombre del archivo y el texto del párrafo\n",
        "                    print(f'Archivo: {nombre_archivo}\\nTexto del párrafo: {texto_parrafo}')\n",
        "                    break\n"
      ],
      "metadata": {
        "colab": {
          "base_uri": "https://localhost:8080/"
        },
        "id": "tAA0JCRB1BmN",
        "outputId": "204aab2d-4d30-489c-bf30-940efa93ff4e"
      },
      "execution_count": null,
      "outputs": [
        {
          "output_type": "stream",
          "name": "stdout",
          "text": [
            "Archivo: cerveza_21 de Febrero de 2023_Pleno.txt_SEÑORA MINISTRA PRES.txt\n",
            "Texto del párrafo: señora ministra presidenta: ¿alguien quiere hacer uso de la palabra?  yo, en este asunto, coincido con la desestimación que se hace respecto de ocho de las nueve causas de improcedencia hechas valer por la parte demandada y algunas de las entidades federativas; sin embargo, no comparto que se considere infundada la causa que se examina en el subapartado sexto, relativa a la cesación de efectos del oficio reclamado y sus actos antecedentes, porque estimo que ésta sí se actualiza con la existencia del ajuste definitivo que realizó la secretaría de hacienda y crédito público, respecto de las participaciones que correspondieron a cada entidad federativa para el impuesto especial sobre producción y servicios por cerveza, del ejercicio fiscal de 2018, cuya existencia es un hecho  notorio  al  estar  publicado  en  el  diario  oficial  de  la federación.\n",
            "Archivo: cerveza_21 de Febrero de 2023_Pleno.txt_por cerveza..txt\n",
            "Texto del párrafo: por cerveza.\n",
            "Archivo: cerveza_21 de Febrero de 2023_Pleno.txt_SEÑOR  MINISTRO  ZAL.txt\n",
            "Texto del párrafo: señor  ministro  zaldívar  lelo  de  larrea:  perdón, señora ministra. estaba esperando si había alguien que hablara. yo, de acuerdo a precedentes, me posiciono, desde este momento, en contra del proyecto y por la invalidez del oficio y los actos que le dieron origen. en mi opinión, de conformidad con la causa de pedir se desprende que se cuestiona que no se analizó la viabilidad jurídica de la información utilizada para la integración del coeficiente para  determinar  el  ajuste  de  las  participaciones  federales  por concepto del ieps, y además, también se sostiene en la demanda que es ilegal la determinación de dichas participaciones, en tanto que  para  ello,  debe  tomarse  en  cuenta  lo  reportado  por  la enajenación  de  cerveza  de  los  causantes  objeto  del  ieps,  en función del comprobante fiscal y del domicilio del contribuyente. por lo que a decir del actor fue incorrecto ajustar el coeficiente de participación  en  perjuicio  de  la  ciudad  de  méxico  y,  en consecuencia, determinar las diferencias a las que se refiere el oficio controvertido.\n",
            "Archivo: cerveza_21 de Febrero de 2023_Pleno.txt_SEÑOR MINISTRO LAYNE.txt\n",
            "Texto del párrafo: señor ministro laynez potisek: de acuerdo. se señala también que la secretaría de finanzas, por la actora, giró diversos oficios  a  distintas  autoridades  y,  salvo  uno  de  ellos,  que  se respondió, los demás no fueron atendidos, así como que la actora hizo saber su desacuerdo en la reunión nacional de funcionarios fiscales, ésta no atendió la petición y ratificó la decisión adoptada, así  como  desatendió su  obligación  de  resolver  sobre  todas  las proposiciones  que  formularon  sus  integrantes,  prevista  en  el reglamento interior. en la propuesta del proyecto, es que estos argumentos son inoperantes, por una parte, infundadas, en otra. inoperante que la actora afirme que presentó diversos oficios a las autoridades  del  sistema  nacional  que  no  fueron  atendidos.  en realidad,  no  propone  un  motivo  de  ilegalidad  respecto  de  lo sucedido  en  la  reunión  de  comité  de  vigilancia,  si  pretendía demostrar  la  violación  al  derecho  de  petición,  el  argumento  es inoperante, pues no responde a la materia de este tipo de juicios. no obstante, el proyecto analiza las peticiones contenidas en los oficios y concluye que, la solicitud de llevar a cabo un análisis completo que servirá de base para distribuir el ieps cerveza, se presentó también durante la reunión, por lo que la falta de respuesta no tendría ningún efecto.\n",
            "Archivo: cerveza_21 de Febrero de 2023_Pleno.txt_En el proyecto se es.txt\n",
            "Texto del párrafo: en el proyecto se estudia que durante la reunión se presentaron los coeficientes  para  la  inscripción  de  participaciones  del  ieps  de cerveza correspondientes al primer cuatrimestre 2018 y se propuso al comité de vigilancia aplicar otros al segundo ajuste cuatrimestral, en  términos  del  reglamento  del  comité  de  vigilancia,  dicha propuesta se discutió frente a las presentadas por la propia ciudad de méxico y después se acordó adoptar dos acuerdos: el primero, propuso  ratificar  la  determinación  de  no  considerar  las declaraciones realizadas por las agencias de la cervecera, por lo que se modificaría el coeficiente; el segundo, requirió información a cervecería modelo y a cervecería cuauhtémoc, sobre la venta final de cerveza por entidad federativa, para así calcular nuevamente los coeficientes de distribución del ieps.\n",
            "Archivo: cerveza_21 de Febrero de 2023_Pleno.txt_Después, a continuac.txt\n",
            "Texto del párrafo: después, a continuación, expongo los argumentos contenidos en el punto número 4, que se plantearon en contra del oficio 4701, es el oficio impugnado el 23 de octubre de 2018. en este último apartado, el proyecto analiza los argumentos relacionados con este oficio, que consisten en que el oficio contraviene la ley de coordinación, no se fundó ni motivó, sólo contiene las diferencias resultantes de las operaciones aritméticas que realizó la secretaría de hacienda. la unidad de coordinación de entidades federativas de la secretaría omitió fundar su competencia, no existe certeza que la disminución de  las  participaciones  derive  de  los  acuerdos  tomados  en  las reuniones ya señaladas, lo actuado en las reuniones no puede constituir el fundamento del oficio, y la autoridad al contestar la demanda mejora la fundamentación y motivación del oficio pues los fundamentos que ofrece no constan en el mismo. de conformidad con la ley del ieps para calcular las participaciones sobre ingresos por ieps de cerveza, debe atenderse al objeto del impuesto, es decir, a la enajenación, tomando como base el comprobante fiscal expedido para tal efecto y el domicilio del contribuyente; de acuerdo con ello, fue incorrecto que ajustaran el coeficiente de participación. recordemos que el problema surge desde el momento en que la cervecería al haber cambiado de propietario ubicó su domicilio exclusivamente  en  la  ciudad  de  méxico  y  todas  las  ventas  de cerveza se realizaron a través de esta entidad, por lo que el cálculo de las participaciones conforme a los coeficientes fueron pasando de un promedio de 7.5% a 34% (treinta y cuatro por ciento) en un cuatrimestre, por lo que dio, precisamente, lugar al ajuste y a la obligación —perdón—, a la aplicación de un nuevo coeficiente y a la obligación de reembolso vía descuento.\n"
          ]
        }
      ]
    },
    {
      "cell_type": "code",
      "source": [
        "import os\n",
        "import re\n",
        "import pandas as pd\n",
        "import aspose.words as aw\n",
        "\n",
        "# Carpeta que contiene los archivos de texto\n",
        "carpeta = '/content/drive/MyDrive/Taquigrafías/Fragmentos_taqui'\n",
        "\n",
        "# Palabras clave a buscar\n",
        "palabras_clave = ['alcohol', 'aspirina', 'ay', 'broma', 'burla', 'café', 'cafecito', 'canción', 'carcajada', 'cerveza', 'chascarrillo', 'chisme', 'demonio', 'desayunar', 'desayuno', 'diablo', 'dicharachero', 'dios', 'disculpa', 'dormir', 'enfado', 'enojo', 'fiesta', 'grosería', 'libro', 'mal', 'malinterprete', 'mezcal', 'misa', 'molestia', 'nervios', 'ofenda', 'ofender', 'ofensa', 'ofendid', 'pachanga', 'pasillo', 'película', 'risa', 'suciedad', 'siesta', 'siestecita', 'sopita', 'sueño', 'tamal', 'tonto', 'tontería', 'vacaciones', 'viejo']\n",
        "\n",
        "# Lista para almacenar los resultados\n",
        "resultados = []\n",
        "\n",
        "# Iterar sobre todos los archivos de texto en la carpeta\n",
        "for archivo in os.listdir(carpeta):\n",
        "    if archivo.endswith('.txt'):\n",
        "        # Abrir el archivo de texto con Aspose.Words\n",
        "        doc = aw.Document(os.path.join(carpeta, archivo))\n",
        "\n",
        "        # Iterar sobre los párrafos del documento\n",
        "        for parrafo in doc.get_child_nodes(aw.NodeType.PARAGRAPH, True):\n",
        "            texto_parrafo = parrafo.get_text().lower()\n",
        "\n",
        "            # Buscar las palabras clave en el texto del párrafo\n",
        "            for palabra in palabras_clave:\n",
        "                if re.search(r'\\b{}\\b'.format(palabra), texto_parrafo):\n",
        "                    # Agregar el nombre del archivo y el texto del párrafo a la lista de resultados\n",
        "                    resultados.append([archivo, texto_parrafo])\n",
        "                    break\n",
        "\n",
        "# Crear un dataframe a partir de la lista de resultados\n",
        "df = pd.DataFrame(resultados, columns=['Archivo', 'Texto del párrafo'])\n",
        "\n",
        "# Imprimir el dataframe\n",
        "print(df)\n"
      ],
      "metadata": {
        "colab": {
          "base_uri": "https://localhost:8080/"
        },
        "id": "DjL25ydSlW5n",
        "outputId": "e7536005-f091-46f4-bda5-23ccc940821f"
      },
      "execution_count": null,
      "outputs": [
        {
          "output_type": "stream",
          "name": "stdout",
          "text": [
            "                           Archivo  \\\n",
            "0  21 de Febrero de 2023_Pleno.txt   \n",
            "1  21 de Febrero de 2023_Pleno.txt   \n",
            "2  21 de Febrero de 2023_Pleno.txt   \n",
            "3  21 de Febrero de 2023_Pleno.txt   \n",
            "4  21 de Febrero de 2023_Pleno.txt   \n",
            "5  21 de Febrero de 2023_Pleno.txt   \n",
            "\n",
            "                                   Texto del párrafo  \n",
            "0  señora ministra presidenta: ¿alguien quiere ha...  \n",
            "1                                     por cerveza.\\r  \n",
            "2  señor  ministro  zaldívar  lelo  de  larrea:  ...  \n",
            "3  señor ministro laynez potisek: de acuerdo. se ...  \n",
            "4  en el proyecto se estudia que durante la reuni...  \n",
            "5  después, a continuación, expongo los argumento...  \n"
          ]
        }
      ]
    },
    {
      "cell_type": "code",
      "source": [
        "import os\n",
        "import re\n",
        "import pandas as pd\n",
        "import aspose.words as aw\n",
        "\n",
        "# Carpeta que contiene los archivos de texto\n",
        "carpeta = '/content/drive/MyDrive/Taquigrafías/Fragmentos_taqui'\n",
        "\n",
        "# Palabras clave a buscar\n",
        "palabras_clave = ['alcohol', 'aspirina', 'ay', 'broma', 'burla', 'café', 'cafecito', 'canción', 'carcajada', 'cerveza', 'chascarrillo', 'chisme', 'demonio', 'desayunar', 'desayuno', 'diablo', 'dicharachero', 'dios', 'disculpa', 'dormir', 'enfado', 'enojo', 'fiesta', 'grosería', 'libro', 'mal', 'malinterprete', 'mezcal', 'misa', 'molestia', 'nervios', 'ofenda', 'ofender', 'ofensa', 'ofendid', 'pachanga', 'pasillo', 'película', 'risa', 'suciedad', 'siesta', 'siestecita', 'sopita', 'sueño', 'tamal', 'tonto', 'tontería', 'vacaciones', 'viejo']\n",
        "\n",
        "# Diccionario de meses\n",
        "meses = {'enero': '01', 'febrero': '02', 'marzo': '03', 'abril': '04', 'mayo': '05', 'junio': '06',\n",
        "         'julio': '07', 'agosto': '08', 'septiembre': '09', 'octubre': '10', 'noviembre': '11', 'diciembre': '12'}\n",
        "\n",
        "# Lista para almacenar los datos\n",
        "datos = []\n",
        "\n",
        "# Iterar sobre todos los archivos de texto en la carpeta\n",
        "for archivo in os.listdir(carpeta):\n",
        "    if archivo.endswith('.txt'):\n",
        "        # Extraer la fecha y la instancia del nombre del archivo\n",
        "        nombre, extension = os.path.splitext(archivo)\n",
        "        fecha, instancia = nombre.split('_')\n",
        "        fecha = fecha.lower()\n",
        "\n",
        "        # Convertir el nombre del mes en un número\n",
        "        for mes, numero in meses.items():\n",
        "            fecha = fecha.replace(mes, numero)\n",
        "\n",
        "        # Eliminar las palabras \"de\" de la fecha\n",
        "        fecha = re.sub(r'\\bde\\b', '', fecha)\n",
        "\n",
        "        # Convertir la fecha a formato YYYY-MM-DD\n",
        "        from datetime import datetime\n",
        "\n",
        "        fecha_str = '21 02 2023'\n",
        "        fecha_dt = datetime.strptime(fecha_str, '%d %m %Y')\n",
        "        fecha_nueva_str = fecha_dt.strftime('%Y-%m-%d')\n",
        "        fecha = fecha_nueva_str\n",
        "\n",
        "        # Abrir el archivo de texto con Aspose.Words\n",
        "        doc = aw.Document(os.path.join(carpeta, archivo))\n",
        "\n",
        "        # Iterar sobre los párrafos del documento\n",
        "        for parrafo in doc.get_child_nodes(aw.NodeType.PARAGRAPH, True):\n",
        "            texto_parrafo = parrafo.get_text().lower()\n",
        "\n",
        "            # Buscar las palabras clave en el texto del párrafo\n",
        "            for palabra in palabras_clave:\n",
        "                if re.search(r'\\b{}\\b'.format(palabra), texto_parrafo):\n",
        "\n",
        "                    # Agregar los datos a la lista\n",
        "                    datos.append([archivo, fecha, instancia, texto_parrafo])\n",
        "\n",
        "# Crear un DataFrame a partir de la lista de datos\n",
        "df = pd.DataFrame(datos, columns=['nombre_archivo', 'fecha', 'instancia', 'texto_parrafo'])\n",
        "\n",
        "# Guardar el DataFrame como un archivo CSV\n",
        "df.to_csv('/content/drive/MyDrive/Taquigrafías/resultado.csv', index=False)\n"
      ],
      "metadata": {
        "id": "w6NCCJth-tIY"
      },
      "execution_count": null,
      "outputs": []
    }
  ]
}